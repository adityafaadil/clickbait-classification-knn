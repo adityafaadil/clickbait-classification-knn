{
  "nbformat": 4,
  "nbformat_minor": 0,
  "metadata": {
    "colab": {
      "provenance": []
    },
    "kernelspec": {
      "name": "python3",
      "display_name": "Python 3"
    },
    "language_info": {
      "name": "python"
    }
  },
  "cells": [
    {
      "cell_type": "code",
      "source": [
        "!pip install streamlit"
      ],
      "metadata": {
        "id": "hXefofvKFo0i"
      },
      "execution_count": null,
      "outputs": []
    },
    {
      "cell_type": "code",
      "source": [
        "!pip freeze | grep streamlit"
      ],
      "metadata": {
        "colab": {
          "base_uri": "https://localhost:8080/"
        },
        "id": "hr4ZuIGfFm5O",
        "outputId": "07ca95a0-e511-417c-e3af-91f228190ad8"
      },
      "execution_count": 4,
      "outputs": [
        {
          "output_type": "stream",
          "name": "stdout",
          "text": [
            "streamlit==1.19.0\n"
          ]
        }
      ]
    },
    {
      "cell_type": "code",
      "execution_count": 5,
      "metadata": {
        "colab": {
          "base_uri": "https://localhost:8080/"
        },
        "id": "XpTN6p1QEjKt",
        "outputId": "0915ab2a-4ec7-4fa6-83c1-b91b60f0004f"
      },
      "outputs": [
        {
          "output_type": "stream",
          "name": "stderr",
          "text": [
            "WARNING:root:\n",
            "  \u001b[33m\u001b[1mWarning:\u001b[0m to view this Streamlit app on a browser, run it with the following\n",
            "  command:\n",
            "\n",
            "    streamlit run /usr/local/lib/python3.8/dist-packages/ipykernel_launcher.py [ARGUMENTS]\n",
            "2023-03-04 00:48:06.630 \n",
            "  \u001b[33m\u001b[1mWarning:\u001b[0m to view this Streamlit app on a browser, run it with the following\n",
            "  command:\n",
            "\n",
            "    streamlit run /usr/local/lib/python3.8/dist-packages/ipykernel_launcher.py [ARGUMENTS]\n"
          ]
        }
      ],
      "source": [
        "import streamlit as st\n",
        "import pandas as pd\n",
        "import pickle\n",
        "from sklearn.feature_extraction.text import TfidfVectorizer\n",
        "from sklearn.neighbors import KNeighborsClassifier\n",
        "\n",
        "# load model\n",
        "with open('clickbait_knn_model.pkl', 'rb') as f:\n",
        "    model = pickle.load(f)\n",
        "\n",
        "# load TF-IDF vectorizer\n",
        "with open('tfidf_vectorizer.pkl', 'rb') as f:\n",
        "    tfidf_vectorizer = pickle.load(f)\n",
        "\n",
        "# define function for predicting clickbait\n",
        "def predict_clickbait(title):\n",
        "    # transform text using tf-idf vectorizer\n",
        "    title_tfidf = tfidf_vectorizer.transform([title])\n",
        "    # predict clickbait using trained model\n",
        "    prediction = model.predict(title_tfidf)\n",
        "    # return prediction\n",
        "    return prediction[0]\n",
        "\n",
        "# set up streamlit app\n",
        "st.title('Clickbait Classifier')\n",
        "\n",
        "# get user input\n",
        "title = st.text_input('Enter the title of the article:')\n",
        "if st.button('Predict'):\n",
        "    # predict clickbait\n",
        "    prediction = predict_clickbait(title)\n",
        "    # display prediction\n",
        "    if prediction == 1:\n",
        "        st.write('This article is likely to be clickbait.')\n",
        "    else:\n",
        "        st.write('This article is not likely to be clickbait.')"
      ]
    }
  ]
}
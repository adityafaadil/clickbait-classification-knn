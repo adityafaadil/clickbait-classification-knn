{
  "nbformat": 4,
  "nbformat_minor": 0,
  "metadata": {
    "colab": {
      "provenance": []
    },
    "kernelspec": {
      "name": "python3",
      "display_name": "Python 3"
    },
    "language_info": {
      "name": "python"
    }
  },
  "cells": [
    {
      "cell_type": "code",
      "source": [
        "!pip install NLTK"
      ],
      "metadata": {
        "colab": {
          "base_uri": "https://localhost:8080/"
        },
        "id": "Ya1JkPtajbvR",
        "outputId": "705edfcb-2016-4ee2-fa15-1cd478e89e44"
      },
      "execution_count": 2,
      "outputs": [
        {
          "output_type": "stream",
          "name": "stdout",
          "text": [
            "Looking in indexes: https://pypi.org/simple, https://us-python.pkg.dev/colab-wheels/public/simple/\n",
            "Requirement already satisfied: NLTK in /usr/local/lib/python3.9/dist-packages (3.7)\n",
            "Requirement already satisfied: click in /usr/local/lib/python3.9/dist-packages (from NLTK) (8.1.3)\n",
            "Requirement already satisfied: joblib in /usr/local/lib/python3.9/dist-packages (from NLTK) (1.1.1)\n",
            "Requirement already satisfied: tqdm in /usr/local/lib/python3.9/dist-packages (from NLTK) (4.65.0)\n",
            "Requirement already satisfied: regex>=2021.8.3 in /usr/local/lib/python3.9/dist-packages (from NLTK) (2022.6.2)\n"
          ]
        }
      ]
    },
    {
      "cell_type": "code",
      "execution_count": 14,
      "metadata": {
        "colab": {
          "base_uri": "https://localhost:8080/"
        },
        "id": "hwDggPX5iPFz",
        "outputId": "5bf7e036-a72a-429d-8550-c1d3c12dc4e5"
      },
      "outputs": [
        {
          "output_type": "stream",
          "name": "stderr",
          "text": [
            "[nltk_data] Downloading package stopwords to /root/nltk_data...\n",
            "[nltk_data]   Package stopwords is already up-to-date!\n"
          ]
        },
        {
          "output_type": "execute_result",
          "data": {
            "text/plain": [
              "True"
            ]
          },
          "metadata": {},
          "execution_count": 14
        }
      ],
      "source": [
        "# Import necessary libraries\n",
        "import pandas as pd\n",
        "import nltk\n",
        "from nltk.corpus import stopwords\n",
        "from sklearn.feature_extraction.text import TfidfVectorizer\n",
        "from sklearn.neighbors import KNeighborsClassifier\n",
        "from sklearn.model_selection import train_test_split, cross_val_score\n",
        "from sklearn.metrics import accuracy_score, classification_report, confusion_matrix\n",
        "import pickle\n",
        "nltk.download('stopwords')"
      ]
    },
    {
      "cell_type": "code",
      "source": [
        "# Load the dataset\n",
        "df = pd.read_csv('data_bersih.csv')\n",
        "df"
      ],
      "metadata": {
        "colab": {
          "base_uri": "https://localhost:8080/",
          "height": 424
        },
        "id": "a1VQ6zr2nFCf",
        "outputId": "86b00a14-f266-45ad-edb9-d4759ebd1063"
      },
      "execution_count": 9,
      "outputs": [
        {
          "output_type": "execute_result",
          "data": {
            "text/plain": [
              "                                                   title          label  \\\n",
              "0      masuk radar pilwalkot medan menantu jokowi tem...  non-clickbait   \n",
              "1           malaysia sudut ri isu kabut asap invasi babi  non-clickbait   \n",
              "2       viral driver ojol bekas pesan makan pakai sepeda      clickbait   \n",
              "3          kemensos salur rp m korban rusuh sosial papua  non-clickbait   \n",
              "4      kait mayat bayi enas tangerang pria tangkap po...  non-clickbait   \n",
              "...                                                  ...            ...   \n",
              "14995  tolak ruu tanah ribu tani gelar aksi istanadpr...  non-clickbait   \n",
              "14996  niat momong program hamil fedi nuril pengin ya...      clickbait   \n",
              "14997  edar isu internet papua blokir telkom warga pe...  non-clickbait   \n",
              "14998        txt comeback soobin aku gatal pamer spoiler      clickbait   \n",
              "14999  emmy awards peter dinklage cetak rekor berkat ...  non-clickbait   \n",
              "\n",
              "       label_score  \n",
              "0                0  \n",
              "1                0  \n",
              "2                1  \n",
              "3                0  \n",
              "4                0  \n",
              "...            ...  \n",
              "14995            0  \n",
              "14996            1  \n",
              "14997            0  \n",
              "14998            1  \n",
              "14999            0  \n",
              "\n",
              "[15000 rows x 3 columns]"
            ],
            "text/html": [
              "\n",
              "  <div id=\"df-330276ff-145d-4d80-b5c5-932330489b74\">\n",
              "    <div class=\"colab-df-container\">\n",
              "      <div>\n",
              "<style scoped>\n",
              "    .dataframe tbody tr th:only-of-type {\n",
              "        vertical-align: middle;\n",
              "    }\n",
              "\n",
              "    .dataframe tbody tr th {\n",
              "        vertical-align: top;\n",
              "    }\n",
              "\n",
              "    .dataframe thead th {\n",
              "        text-align: right;\n",
              "    }\n",
              "</style>\n",
              "<table border=\"1\" class=\"dataframe\">\n",
              "  <thead>\n",
              "    <tr style=\"text-align: right;\">\n",
              "      <th></th>\n",
              "      <th>title</th>\n",
              "      <th>label</th>\n",
              "      <th>label_score</th>\n",
              "    </tr>\n",
              "  </thead>\n",
              "  <tbody>\n",
              "    <tr>\n",
              "      <th>0</th>\n",
              "      <td>masuk radar pilwalkot medan menantu jokowi tem...</td>\n",
              "      <td>non-clickbait</td>\n",
              "      <td>0</td>\n",
              "    </tr>\n",
              "    <tr>\n",
              "      <th>1</th>\n",
              "      <td>malaysia sudut ri isu kabut asap invasi babi</td>\n",
              "      <td>non-clickbait</td>\n",
              "      <td>0</td>\n",
              "    </tr>\n",
              "    <tr>\n",
              "      <th>2</th>\n",
              "      <td>viral driver ojol bekas pesan makan pakai sepeda</td>\n",
              "      <td>clickbait</td>\n",
              "      <td>1</td>\n",
              "    </tr>\n",
              "    <tr>\n",
              "      <th>3</th>\n",
              "      <td>kemensos salur rp m korban rusuh sosial papua</td>\n",
              "      <td>non-clickbait</td>\n",
              "      <td>0</td>\n",
              "    </tr>\n",
              "    <tr>\n",
              "      <th>4</th>\n",
              "      <td>kait mayat bayi enas tangerang pria tangkap po...</td>\n",
              "      <td>non-clickbait</td>\n",
              "      <td>0</td>\n",
              "    </tr>\n",
              "    <tr>\n",
              "      <th>...</th>\n",
              "      <td>...</td>\n",
              "      <td>...</td>\n",
              "      <td>...</td>\n",
              "    </tr>\n",
              "    <tr>\n",
              "      <th>14995</th>\n",
              "      <td>tolak ruu tanah ribu tani gelar aksi istanadpr...</td>\n",
              "      <td>non-clickbait</td>\n",
              "      <td>0</td>\n",
              "    </tr>\n",
              "    <tr>\n",
              "      <th>14996</th>\n",
              "      <td>niat momong program hamil fedi nuril pengin ya...</td>\n",
              "      <td>clickbait</td>\n",
              "      <td>1</td>\n",
              "    </tr>\n",
              "    <tr>\n",
              "      <th>14997</th>\n",
              "      <td>edar isu internet papua blokir telkom warga pe...</td>\n",
              "      <td>non-clickbait</td>\n",
              "      <td>0</td>\n",
              "    </tr>\n",
              "    <tr>\n",
              "      <th>14998</th>\n",
              "      <td>txt comeback soobin aku gatal pamer spoiler</td>\n",
              "      <td>clickbait</td>\n",
              "      <td>1</td>\n",
              "    </tr>\n",
              "    <tr>\n",
              "      <th>14999</th>\n",
              "      <td>emmy awards peter dinklage cetak rekor berkat ...</td>\n",
              "      <td>non-clickbait</td>\n",
              "      <td>0</td>\n",
              "    </tr>\n",
              "  </tbody>\n",
              "</table>\n",
              "<p>15000 rows × 3 columns</p>\n",
              "</div>\n",
              "      <button class=\"colab-df-convert\" onclick=\"convertToInteractive('df-330276ff-145d-4d80-b5c5-932330489b74')\"\n",
              "              title=\"Convert this dataframe to an interactive table.\"\n",
              "              style=\"display:none;\">\n",
              "        \n",
              "  <svg xmlns=\"http://www.w3.org/2000/svg\" height=\"24px\"viewBox=\"0 0 24 24\"\n",
              "       width=\"24px\">\n",
              "    <path d=\"M0 0h24v24H0V0z\" fill=\"none\"/>\n",
              "    <path d=\"M18.56 5.44l.94 2.06.94-2.06 2.06-.94-2.06-.94-.94-2.06-.94 2.06-2.06.94zm-11 1L8.5 8.5l.94-2.06 2.06-.94-2.06-.94L8.5 2.5l-.94 2.06-2.06.94zm10 10l.94 2.06.94-2.06 2.06-.94-2.06-.94-.94-2.06-.94 2.06-2.06.94z\"/><path d=\"M17.41 7.96l-1.37-1.37c-.4-.4-.92-.59-1.43-.59-.52 0-1.04.2-1.43.59L10.3 9.45l-7.72 7.72c-.78.78-.78 2.05 0 2.83L4 21.41c.39.39.9.59 1.41.59.51 0 1.02-.2 1.41-.59l7.78-7.78 2.81-2.81c.8-.78.8-2.07 0-2.86zM5.41 20L4 18.59l7.72-7.72 1.47 1.35L5.41 20z\"/>\n",
              "  </svg>\n",
              "      </button>\n",
              "      \n",
              "  <style>\n",
              "    .colab-df-container {\n",
              "      display:flex;\n",
              "      flex-wrap:wrap;\n",
              "      gap: 12px;\n",
              "    }\n",
              "\n",
              "    .colab-df-convert {\n",
              "      background-color: #E8F0FE;\n",
              "      border: none;\n",
              "      border-radius: 50%;\n",
              "      cursor: pointer;\n",
              "      display: none;\n",
              "      fill: #1967D2;\n",
              "      height: 32px;\n",
              "      padding: 0 0 0 0;\n",
              "      width: 32px;\n",
              "    }\n",
              "\n",
              "    .colab-df-convert:hover {\n",
              "      background-color: #E2EBFA;\n",
              "      box-shadow: 0px 1px 2px rgba(60, 64, 67, 0.3), 0px 1px 3px 1px rgba(60, 64, 67, 0.15);\n",
              "      fill: #174EA6;\n",
              "    }\n",
              "\n",
              "    [theme=dark] .colab-df-convert {\n",
              "      background-color: #3B4455;\n",
              "      fill: #D2E3FC;\n",
              "    }\n",
              "\n",
              "    [theme=dark] .colab-df-convert:hover {\n",
              "      background-color: #434B5C;\n",
              "      box-shadow: 0px 1px 3px 1px rgba(0, 0, 0, 0.15);\n",
              "      filter: drop-shadow(0px 1px 2px rgba(0, 0, 0, 0.3));\n",
              "      fill: #FFFFFF;\n",
              "    }\n",
              "  </style>\n",
              "\n",
              "      <script>\n",
              "        const buttonEl =\n",
              "          document.querySelector('#df-330276ff-145d-4d80-b5c5-932330489b74 button.colab-df-convert');\n",
              "        buttonEl.style.display =\n",
              "          google.colab.kernel.accessAllowed ? 'block' : 'none';\n",
              "\n",
              "        async function convertToInteractive(key) {\n",
              "          const element = document.querySelector('#df-330276ff-145d-4d80-b5c5-932330489b74');\n",
              "          const dataTable =\n",
              "            await google.colab.kernel.invokeFunction('convertToInteractive',\n",
              "                                                     [key], {});\n",
              "          if (!dataTable) return;\n",
              "\n",
              "          const docLinkHtml = 'Like what you see? Visit the ' +\n",
              "            '<a target=\"_blank\" href=https://colab.research.google.com/notebooks/data_table.ipynb>data table notebook</a>'\n",
              "            + ' to learn more about interactive tables.';\n",
              "          element.innerHTML = '';\n",
              "          dataTable['output_type'] = 'display_data';\n",
              "          await google.colab.output.renderOutput(dataTable, element);\n",
              "          const docLink = document.createElement('div');\n",
              "          docLink.innerHTML = docLinkHtml;\n",
              "          element.appendChild(docLink);\n",
              "        }\n",
              "      </script>\n",
              "    </div>\n",
              "  </div>\n",
              "  "
            ]
          },
          "metadata": {},
          "execution_count": 9
        }
      ]
    },
    {
      "cell_type": "code",
      "source": [
        "print(df.isnull().sum())"
      ],
      "metadata": {
        "colab": {
          "base_uri": "https://localhost:8080/"
        },
        "id": "WZPf3Eiq6QbL",
        "outputId": "f8d55314-7760-4fcd-c6f1-b4836be25a58"
      },
      "execution_count": 10,
      "outputs": [
        {
          "output_type": "stream",
          "name": "stdout",
          "text": [
            "title          0\n",
            "label          0\n",
            "label_score    0\n",
            "dtype: int64\n"
          ]
        }
      ]
    },
    {
      "cell_type": "code",
      "source": [
        "# Pisahkan atribut dan label\n",
        "X = df['title']\n",
        "y = df['label_score']"
      ],
      "metadata": {
        "id": "DYCR0T06jtS_"
      },
      "execution_count": 11,
      "outputs": []
    },
    {
      "cell_type": "code",
      "source": [
        "X"
      ],
      "metadata": {
        "colab": {
          "base_uri": "https://localhost:8080/"
        },
        "id": "3aedWkLoswbf",
        "outputId": "2aa5dc68-97c2-4cfd-e1c3-755e762bb9b5"
      },
      "execution_count": 12,
      "outputs": [
        {
          "output_type": "execute_result",
          "data": {
            "text/plain": [
              "0        masuk radar pilwalkot medan menantu jokowi tem...\n",
              "1             malaysia sudut ri isu kabut asap invasi babi\n",
              "2         viral driver ojol bekas pesan makan pakai sepeda\n",
              "3            kemensos salur rp m korban rusuh sosial papua\n",
              "4        kait mayat bayi enas tangerang pria tangkap po...\n",
              "                               ...                        \n",
              "14995    tolak ruu tanah ribu tani gelar aksi istanadpr...\n",
              "14996    niat momong program hamil fedi nuril pengin ya...\n",
              "14997    edar isu internet papua blokir telkom warga pe...\n",
              "14998          txt comeback soobin aku gatal pamer spoiler\n",
              "14999    emmy awards peter dinklage cetak rekor berkat ...\n",
              "Name: title, Length: 15000, dtype: object"
            ]
          },
          "metadata": {},
          "execution_count": 12
        }
      ]
    },
    {
      "cell_type": "code",
      "source": [
        "y"
      ],
      "metadata": {
        "colab": {
          "base_uri": "https://localhost:8080/"
        },
        "id": "VmlbGPeoszv2",
        "outputId": "05bdbb6e-e75d-4b4f-9f1b-e4eace0e9994"
      },
      "execution_count": 13,
      "outputs": [
        {
          "output_type": "execute_result",
          "data": {
            "text/plain": [
              "0        0\n",
              "1        0\n",
              "2        1\n",
              "3        0\n",
              "4        0\n",
              "        ..\n",
              "14995    0\n",
              "14996    1\n",
              "14997    0\n",
              "14998    1\n",
              "14999    0\n",
              "Name: label_score, Length: 15000, dtype: int64"
            ]
          },
          "metadata": {},
          "execution_count": 13
        }
      ]
    },
    {
      "cell_type": "code",
      "source": [
        "# membagi dataset menjadi data latih dan data uji\n",
        "X_train, X_test, y_train, y_test = train_test_split(X, y, test_size=0.2, random_state=42)\n",
        "\n",
        "# mengubah fitur menjadi vektor tf-idf\n",
        "tfidf = TfidfVectorizer()\n",
        "X_train = tfidf.fit_transform(X_train)\n",
        "X_test = tfidf.transform(X_test)\n",
        "\n",
        "# Train model\n",
        "best_score = 0\n",
        "best_k = 0\n",
        "for k in range(1, 12, 2):\n",
        "    knn = KNeighborsClassifier(n_neighbors=k)\n",
        "    scores = cross_val_score(knn, X_train, y_train, cv=5)\n",
        "    score = scores.mean()\n",
        "    if score > best_score:\n",
        "        best_score = score\n",
        "        best_k = k\n",
        "    print(f\"k = {k}, Accuracy = {score}\")\n",
        "\n",
        "print(f\"Best k: {best_k}\")\n",
        "\n",
        "knn = KNeighborsClassifier(n_neighbors=best_k)\n",
        "knn.fit(X_train, y_train)\n",
        "\n",
        "# Evaluate model\n",
        "y_pred = knn.predict(X_test)"
      ],
      "metadata": {
        "colab": {
          "base_uri": "https://localhost:8080/"
        },
        "id": "OGqNkWnY0Uxt",
        "outputId": "2b31ad34-b4e9-4d72-8f11-2ceee6aee929"
      },
      "execution_count": 15,
      "outputs": [
        {
          "output_type": "stream",
          "name": "stdout",
          "text": [
            "k = 1, Accuracy = 0.6448333333333334\n",
            "k = 3, Accuracy = 0.6640833333333334\n",
            "k = 5, Accuracy = 0.6812500000000001\n",
            "k = 7, Accuracy = 0.6879166666666666\n",
            "k = 9, Accuracy = 0.69325\n",
            "k = 11, Accuracy = 0.6965\n",
            "Best k: 11\n"
          ]
        }
      ]
    },
    {
      "cell_type": "code",
      "source": [
        "print(confusion_matrix(y_test, y_pred))"
      ],
      "metadata": {
        "colab": {
          "base_uri": "https://localhost:8080/"
        },
        "id": "AfgJv479eifQ",
        "outputId": "4c05b65e-71ea-4268-9703-57a6925c7e9f"
      },
      "execution_count": 16,
      "outputs": [
        {
          "output_type": "stream",
          "name": "stdout",
          "text": [
            "[[1463  335]\n",
            " [ 519  683]]\n"
          ]
        }
      ]
    },
    {
      "cell_type": "code",
      "source": [
        "print(classification_report(y_test, y_pred))"
      ],
      "metadata": {
        "colab": {
          "base_uri": "https://localhost:8080/"
        },
        "id": "O6vESqSBej2G",
        "outputId": "7e695135-4c07-4a88-b934-22c74557deaf"
      },
      "execution_count": 17,
      "outputs": [
        {
          "output_type": "stream",
          "name": "stdout",
          "text": [
            "              precision    recall  f1-score   support\n",
            "\n",
            "           0       0.74      0.81      0.77      1798\n",
            "           1       0.67      0.57      0.62      1202\n",
            "\n",
            "    accuracy                           0.72      3000\n",
            "   macro avg       0.70      0.69      0.69      3000\n",
            "weighted avg       0.71      0.72      0.71      3000\n",
            "\n"
          ]
        }
      ]
    },
    {
      "cell_type": "code",
      "source": [
        "import joblib\n",
        "# save model\n",
        "filename = 'model.joblib'\n",
        "pickle.dump(knn, open(filename, 'wb'))"
      ],
      "metadata": {
        "id": "pOnqiqDbvFoK"
      },
      "execution_count": 20,
      "outputs": []
    },
    {
      "cell_type": "code",
      "source": [
        "# save vectorizer\n",
        "filename = 'vectorizer.joblib'\n",
        "pickle.dump(tfidf, open(filename, 'wb'))"
      ],
      "metadata": {
        "id": "KWcCLp3JEmyk"
      },
      "execution_count": 21,
      "outputs": []
    },
    {
      "cell_type": "code",
      "source": [
        "# load model\n",
        "loaded_model = pickle.load(open(filename, 'rb'))"
      ],
      "metadata": {
        "id": "sPqFvUygEoKX"
      },
      "execution_count": null,
      "outputs": []
    }
  ]
}